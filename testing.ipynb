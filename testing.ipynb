{
 "metadata": {
  "language_info": {
   "codemirror_mode": {
    "name": "ipython",
    "version": 3
   },
   "file_extension": ".py",
   "mimetype": "text/x-python",
   "name": "python",
   "nbconvert_exporter": "python",
   "pygments_lexer": "ipython3",
   "version": "3.7.6-final"
  },
  "orig_nbformat": 2,
  "kernelspec": {
   "name": "python3",
   "display_name": "Python 3.7.6 64-bit (conda)",
   "metadata": {
    "interpreter": {
     "hash": "8fac594bfae6525c0c41b4041d2d72effa188cc8ead05f81b1fab2bb098927fb"
    }
   }
  }
 },
 "nbformat": 4,
 "nbformat_minor": 2,
 "cells": [
  {
   "cell_type": "code",
   "execution_count": 14,
   "metadata": {},
   "outputs": [
    {
     "output_type": "stream",
     "name": "stdout",
     "text": [
      "Large Fry Larrys\n",
      "                                         attachments  \\\n",
      "0                                                 []   \n",
      "1                                                 []   \n",
      "2                                                 []   \n",
      "3                                                 []   \n",
      "4  [{'source_url': 'https://i.groupme.com/720x128...   \n",
      "\n",
      "                                          avatar_url  created_at  \\\n",
      "0                                                NaN  1480321133   \n",
      "1                                                NaN  1480321415   \n",
      "2                                                NaN  1480321472   \n",
      "3  https://i.groupme.com/200x266.jpeg.11b7dad4860...  1480321538   \n",
      "4  https://i.groupme.com/480x854.png.6475024672f8...  1480337961   \n",
      "\n",
      "                                      favorited_by  group_id  \\\n",
      "0                         ['18257442', '43797901']  27071733   \n",
      "1                         ['18257442', '43797901']  27071733   \n",
      "2                         ['18257442', '43797901']  27071733   \n",
      "3  ['18257442', '41651233', '43797901', '9803929']  27071733   \n",
      "4              ['41651233', '43797901', '9803929']  27071733   \n",
      "\n",
      "                   id              name sender_id sender_type  \\\n",
      "0  148032113374164489           GroupMe    system      system   \n",
      "1  148032141570619528           GroupMe    system      system   \n",
      "2  148032147222696074           GroupMe    system      system   \n",
      "3  148032153831586074  Logan Camilletti  18257442        user   \n",
      "4  148033796101477848      Shad Karlson  41651233        user   \n",
      "\n",
      "                                    source_guid  system  \\\n",
      "0              394d3a4097710134255622000b9ea952    True   \n",
      "1              e15d9b1097710134d62822000bd8a0b6    True   \n",
      "2              030dfb80977201342a9c22000ae18457    True   \n",
      "3          760C6E48-8783-40E3-8B2B-053279B4DFF7   False   \n",
      "4  android-4690c11e-1f7b-4d72-bf16-5e90d5751876   False   \n",
      "\n",
      "                                                text   user_id  \\\n",
      "0  Logan Camilletti added Shad Karlson, Jackson E...    system   \n",
      "1  Logan Camilletti added Zach Preator to the group.    system   \n",
      "2  Logan Camilletti changed the topic to: Just th...    system   \n",
      "3                                                Hey  18257442   \n",
      "4                                                NaN  41651233   \n",
      "\n",
      "                                               event platform  Unnamed: 0  \\\n",
      "0  {'type': 'membership.announce.added', 'data': ...      NaN         0.0   \n",
      "1  {'type': 'membership.announce.added', 'data': ...      NaN         1.0   \n",
      "2  {'type': 'group.topic_change', 'data': {'user'...      NaN         2.0   \n",
      "3                                                NaN      NaN         3.0   \n",
      "4                                                NaN      NaN         4.0   \n",
      "\n",
      "   Unnamed: 0.1  Unnamed: 0.1.1  Unnamed: 0.1.1.1  \n",
      "0           0.0          7360.0            7360.0  \n",
      "1           1.0          7359.0            7359.0  \n",
      "2           2.0          7358.0            7358.0  \n",
      "3           3.0          7357.0            7357.0  \n",
      "4           4.0          7356.0            7356.0  \n"
     ]
    }
   ],
   "source": [
    "from groupme import getGroup, getMessages\n",
    "df = getMessages(getGroup())\n",
    "print(df.head())"
   ]
  },
  {
   "cell_type": "code",
   "execution_count": 33,
   "metadata": {},
   "outputs": [
    {
     "output_type": "error",
     "ename": "TypeError",
     "evalue": "eval() arg 1 must be a string, bytes or code object",
     "traceback": [
      "\u001b[1;31m---------------------------------------------------------------------------\u001b[0m",
      "\u001b[1;31mTypeError\u001b[0m                                 Traceback (most recent call last)",
      "\u001b[1;32m<ipython-input-33-7fdb3b49f08f>\u001b[0m in \u001b[0;36m<module>\u001b[1;34m\u001b[0m\n\u001b[0;32m      2\u001b[0m \u001b[0mnewList\u001b[0m \u001b[1;33m=\u001b[0m \u001b[1;33m[\u001b[0m\u001b[1;33m]\u001b[0m\u001b[1;33m\u001b[0m\u001b[1;33m\u001b[0m\u001b[0m\n\u001b[0;32m      3\u001b[0m \u001b[1;32mfor\u001b[0m \u001b[0mx\u001b[0m \u001b[1;32min\u001b[0m \u001b[0mattachments\u001b[0m\u001b[1;33m:\u001b[0m\u001b[1;33m\u001b[0m\u001b[1;33m\u001b[0m\u001b[0m\n\u001b[1;32m----> 4\u001b[1;33m     \u001b[0mnewList\u001b[0m\u001b[1;33m.\u001b[0m\u001b[0mappend\u001b[0m\u001b[1;33m(\u001b[0m\u001b[0meval\u001b[0m\u001b[1;33m(\u001b[0m\u001b[0mx\u001b[0m\u001b[1;33m)\u001b[0m\u001b[1;33m)\u001b[0m\u001b[1;33m\u001b[0m\u001b[1;33m\u001b[0m\u001b[0m\n\u001b[0m\u001b[0;32m      5\u001b[0m \u001b[0mdf\u001b[0m\u001b[1;33m[\u001b[0m\u001b[1;34m'attachments'\u001b[0m\u001b[1;33m]\u001b[0m \u001b[1;33m=\u001b[0m \u001b[0mnewList\u001b[0m\u001b[1;33m\u001b[0m\u001b[1;33m\u001b[0m\u001b[0m\n\u001b[0;32m      6\u001b[0m     \u001b[1;31m# if len(y) > 0:\u001b[0m\u001b[1;33m\u001b[0m\u001b[1;33m\u001b[0m\u001b[1;33m\u001b[0m\u001b[0m\n",
      "\u001b[1;31mTypeError\u001b[0m: eval() arg 1 must be a string, bytes or code object"
     ]
    }
   ],
   "source": [
    "attachments = df['attachments'].to_list()\n",
    "newList = []\n",
    "for x in attachments:\n",
    "    try:\n",
    "        newList.append(eval(x))\n",
    "    except:\n",
    "        newList.append(x)\n",
    "df['attachments'] = newList\n",
    "    # if len(y) > 0:\n",
    "        # # print(y)\n",
    "        # isImage = y[0]['type'] == 'image'\n",
    "        # if isImage:\n",
    "        #     print(y[0]['url'])"
   ]
  },
  {
   "cell_type": "code",
   "execution_count": null,
   "metadata": {},
   "outputs": [],
   "source": []
  }
 ]
}